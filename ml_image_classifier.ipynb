{
  "nbformat": 4,
  "nbformat_minor": 0,
  "metadata": {
    "accelerator": "GPU",
    "colab": {
      "name": "ml_image_classifier.ipynb",
      "provenance": [],
      "collapsed_sections": []
    },
    "kernelspec": {
      "display_name": "Python 3",
      "name": "python3"
    },
    "language_info": {
      "name": "python"
    }
  },
  "cells": [
    {
      "cell_type": "code",
      "metadata": {
        "id": "ABom4TXUI1Hw",
        "colab": {
          "base_uri": "https://localhost:8080/"
        },
        "outputId": "d7a5b19d-5a15-42d5-a564-190ec5d6b370"
      },
      "source": [
        "from google.colab import drive\n",
        "drive.mount('/content/drive')"
      ],
      "execution_count": 32,
      "outputs": [
        {
          "output_type": "stream",
          "text": [
            "Drive already mounted at /content/drive; to attempt to forcibly remount, call drive.mount(\"/content/drive\", force_remount=True).\n"
          ],
          "name": "stdout"
        }
      ]
    },
    {
      "cell_type": "code",
      "metadata": {
        "colab": {
          "base_uri": "https://localhost:8080/"
        },
        "id": "yXi8xXDLKzsy",
        "outputId": "f88c4091-16d0-4186-9e7d-8f4ccc081e2e"
      },
      "source": [
        "%cd /content/drive/MyDrive/apple_case_study"
      ],
      "execution_count": 33,
      "outputs": [
        {
          "output_type": "stream",
          "text": [
            "/content/drive/MyDrive/apple_case_study\n"
          ],
          "name": "stdout"
        }
      ]
    },
    {
      "cell_type": "code",
      "metadata": {
        "id": "VhNYtPQrK6zx"
      },
      "source": [
        "import cv2\n",
        "import numpy as np\n",
        "from google.colab.patches import cv2_imshow"
      ],
      "execution_count": 34,
      "outputs": []
    },
    {
      "cell_type": "code",
      "metadata": {
        "colab": {
          "base_uri": "https://localhost:8080/",
          "height": 479
        },
        "id": "sxPXvE_JLAB6",
        "outputId": "6a25c687-0b60-4c66-8a6a-0eecab3a4e5c"
      },
      "source": [
        "image = cv2.imread('squares/squares/train/a/0.jpg')\n",
        "cv2_imshow(image)"
      ],
      "execution_count": 35,
      "outputs": [
        {
          "output_type": "display_data",
          "data": {
            "image/png": "[encoded data removed]",
            "text/plain": [
              "<PIL.Image.Image image mode=RGB size=462x462 at 0x7F476AF8F5D0>"
            ]
          },
          "metadata": {
            "tags": []
          }
        }
      ]
    },
    {
      "cell_type": "code",
      "metadata": {
        "id": "20c1wfStLHJ3"
      },
      "source": [
        "gray = cv2.cvtColor(image, cv2.COLOR_BGR2GRAY)\n",
        "# Threshold the image - segment white background from post it notes\n",
        "_, thresh = cv2.threshold(gray, 250, 255, cv2.THRESH_BINARY_INV);\n",
        "# Find the contours\n",
        "contours, _ = cv2.findContours(thresh,cv2.RETR_TREE,cv2.CHAIN_APPROX_SIMPLE)"
      ],
      "execution_count": 36,
      "outputs": []
    },
    {
      "cell_type": "code",
      "metadata": {
        "colab": {
          "base_uri": "https://localhost:8080/",
          "height": 92
        },
        "id": "te_fDX-1LjUH",
        "outputId": "3f7e7504-aa72-4487-d58c-ccd53da7ed06"
      },
      "source": [
        "for contour in contours:\n",
        "    area = cv2.contourArea(contour)\n",
        "    # If the contour is not really small, or really big\n",
        "    h,w = image.shape[0], image.shape[1]\n",
        "    # Get the four corners of the contour\n",
        "    x,y,w,h = cv2.boundingRect(contour)\n",
        "    roi = image[y:y+h, x:x+h]\n",
        "    cv2_imshow(roi)\n",
        "\n",
        "    mean_blue = np.mean(roi[:,:,0])\n",
        "    mean_green = np.mean(roi[:,:,1])\n",
        "    mean_red = np.mean(roi[:,:,2]) \n"
      ],
      "execution_count": 37,
      "outputs": [
        {
          "output_type": "display_data",
          "data": {
            "image/png": "[encoded data removed]",
            "text/plain": [
              "<PIL.Image.Image image mode=RGB size=75x75 at 0x7F476AF9AD90>"
            ]
          },
          "metadata": {
            "tags": []
          }
        }
      ]
    },
    {
      "cell_type": "code",
      "metadata": {
        "id": "qJhzmoGfwHRJ"
      },
      "source": [
        "import pandas as pd"
      ],
      "execution_count": 38,
      "outputs": []
    },
    {
      "cell_type": "code",
      "metadata": {
        "id": "WmMiqrYZMK6d"
      },
      "source": [
        "train_csv_filename = \"train.csv\"\n",
        "test_csv_filename = \"test.csv\""
      ],
      "execution_count": 39,
      "outputs": []
    },
    {
      "cell_type": "code",
      "metadata": {
        "id": "jh5vAXDSv7cx"
      },
      "source": [
        "train_df = pd.read_csv (train_csv_filename)\n",
        "test_df = pd.read_csv (test_csv_filename)"
      ],
      "execution_count": 40,
      "outputs": []
    },
    {
      "cell_type": "code",
      "metadata": {
        "colab": {
          "base_uri": "https://localhost:8080/"
        },
        "id": "z_mYGLp2wFSG",
        "outputId": "036223fb-4ce0-4e26-dc6e-d85710553883"
      },
      "source": [
        "print(train_df.head)"
      ],
      "execution_count": 41,
      "outputs": [
        {
          "output_type": "stream",
          "text": [
            "<bound method NDFrame.head of              Red        Blue       Green  Class\n",
            "0      62.474133   62.066489   88.963200      1\n",
            "1      27.040089   28.030702   57.777470      1\n",
            "2      67.966000   67.202800   94.226400      1\n",
            "3     248.000000  248.000000  248.000000      1\n",
            "4      49.999923   49.999923   49.999923      1\n",
            "...          ...         ...         ...    ...\n",
            "1495  178.059556  179.040000  183.859911      3\n",
            "1496  153.332400  153.246800  202.197600      3\n",
            "1497  230.763642  229.967949  184.553583      3\n",
            "1498  182.015721  181.077064  194.905575      3\n",
            "1499  170.165713  171.101457  188.865505      3\n",
            "\n",
            "[1500 rows x 4 columns]>\n"
          ],
          "name": "stdout"
        }
      ]
    },
    {
      "cell_type": "code",
      "metadata": {
        "id": "v7j0-w0MwLyi"
      },
      "source": [
        "X_train = train_df.drop('Class', axis=1)\n",
        "y_train = train_df['Class']\n",
        "X_test = test_df.drop('Class', axis=1)\n",
        "y_test = test_df['Class']"
      ],
      "execution_count": 42,
      "outputs": []
    },
    {
      "cell_type": "code",
      "metadata": {
        "colab": {
          "base_uri": "https://localhost:8080/"
        },
        "id": "nlIXOzr0woxY",
        "outputId": "3db913a7-f976-45fd-ecb0-a4436efe510b"
      },
      "source": [
        "# Linear SVM\n",
        "from sklearn.svm import SVC\n",
        "svclassifier_linear = SVC(kernel='linear')\n",
        "svclassifier_linear.fit(X_train, y_train)\n",
        "\n",
        "y_pred_linear = svclassifier_linear.predict(X_test)\n",
        "\n",
        "from sklearn.metrics import classification_report, confusion_matrix\n",
        "print(confusion_matrix(y_test,y_pred_linear))\n",
        "print(classification_report(y_test,y_pred_linear))"
      ],
      "execution_count": 53,
      "outputs": [
        {
          "output_type": "stream",
          "text": [
            "[[340   0 160]\n",
            " [288  39 173]\n",
            " [  0  34 466]]\n",
            "              precision    recall  f1-score   support\n",
            "\n",
            "           1       0.54      0.68      0.60       500\n",
            "           2       0.53      0.08      0.14       500\n",
            "           3       0.58      0.93      0.72       500\n",
            "\n",
            "    accuracy                           0.56      1500\n",
            "   macro avg       0.55      0.56      0.49      1500\n",
            "weighted avg       0.55      0.56      0.49      1500\n",
            "\n"
          ],
          "name": "stdout"
        }
      ]
    },
    {
      "cell_type": "code",
      "metadata": {
        "colab": {
          "base_uri": "https://localhost:8080/"
        },
        "id": "-HWeySZFxBki",
        "outputId": "4a7d7cfe-be67-4a5c-b712-8e8836192f85"
      },
      "source": [
        "# Polynomial Kernel SVM\n",
        "from sklearn.svm import SVC\n",
        "svclassifier_poly = SVC(kernel='poly', degree=8)\n",
        "svclassifier_poly.fit(X_train, y_train)\n",
        "\n",
        "y_pred_poly = svclassifier_poly.predict(X_test)\n",
        "\n",
        "from sklearn.metrics import classification_report, confusion_matrix\n",
        "print(confusion_matrix(y_test, y_pred_poly))\n",
        "print(classification_report(y_test, y_pred_poly))"
      ],
      "execution_count": 52,
      "outputs": [
        {
          "output_type": "stream",
          "text": [
            "[[339 161   0]\n",
            " [ 51 341 108]\n",
            " [  0 233 267]]\n",
            "              precision    recall  f1-score   support\n",
            "\n",
            "           1       0.87      0.68      0.76       500\n",
            "           2       0.46      0.68      0.55       500\n",
            "           3       0.71      0.53      0.61       500\n",
            "\n",
            "    accuracy                           0.63      1500\n",
            "   macro avg       0.68      0.63      0.64      1500\n",
            "weighted avg       0.68      0.63      0.64      1500\n",
            "\n"
          ],
          "name": "stdout"
        }
      ]
    },
    {
      "cell_type": "code",
      "metadata": {
        "id": "Ut6ZrDULxa6h",
        "colab": {
          "base_uri": "https://localhost:8080/"
        },
        "outputId": "bfe11adc-58ab-4c0d-ef9e-71b720472867"
      },
      "source": [
        "# Gaussian Kernel SVM\n",
        "from sklearn.svm import SVC\n",
        "svclassifier_gauss = SVC(kernel='rbf')\n",
        "svclassifier_gauss.fit(X_train, y_train)\n",
        "\n",
        "y_pred_gauss = svclassifier_gauss.predict(X_test)\n",
        "\n",
        "from sklearn.metrics import classification_report, confusion_matrix\n",
        "print(confusion_matrix(y_test, y_pred_gauss))\n",
        "print(classification_report(y_test, y_pred_gauss))"
      ],
      "execution_count": 54,
      "outputs": [
        {
          "output_type": "stream",
          "text": [
            "[[338 162   0]\n",
            " [ 11 482   7]\n",
            " [  0  97 403]]\n",
            "              precision    recall  f1-score   support\n",
            "\n",
            "           1       0.97      0.68      0.80       500\n",
            "           2       0.65      0.96      0.78       500\n",
            "           3       0.98      0.81      0.89       500\n",
            "\n",
            "    accuracy                           0.82      1500\n",
            "   macro avg       0.87      0.82      0.82      1500\n",
            "weighted avg       0.87      0.82      0.82      1500\n",
            "\n"
          ],
          "name": "stdout"
        }
      ]
    },
    {
      "cell_type": "code",
      "metadata": {
        "colab": {
          "base_uri": "https://localhost:8080/"
        },
        "id": "nFT-Es_Bc20E",
        "outputId": "6988731f-e0c4-496e-f93d-14bb514c49c0"
      },
      "source": [
        "# Sigmoid Kernel SVM\n",
        "from sklearn.svm import SVC\n",
        "svclassifier_sigmoid = SVC(kernel='sigmoid')\n",
        "svclassifier_sigmoid.fit(X_train, y_train)\n",
        "\n",
        "\n",
        "y_pred_sigmoid = svclassifier_sigmoid.predict(X_test)\n",
        "\n",
        "from sklearn.metrics import classification_report, confusion_matrix\n",
        "print(confusion_matrix(y_test, y_pred_sigmoid))\n",
        "print(classification_report(y_test, y_pred_sigmoid))"
      ],
      "execution_count": 55,
      "outputs": [
        {
          "output_type": "stream",
          "text": [
            "[[160   0 340]\n",
            " [173   0 327]\n",
            " [405   0  95]]\n",
            "              precision    recall  f1-score   support\n",
            "\n",
            "           1       0.22      0.32      0.26       500\n",
            "           2       0.00      0.00      0.00       500\n",
            "           3       0.12      0.19      0.15       500\n",
            "\n",
            "    accuracy                           0.17      1500\n",
            "   macro avg       0.11      0.17      0.14      1500\n",
            "weighted avg       0.11      0.17      0.14      1500\n",
            "\n"
          ],
          "name": "stdout"
        },
        {
          "output_type": "stream",
          "text": [
            "/usr/local/lib/python3.7/dist-packages/sklearn/metrics/_classification.py:1272: UndefinedMetricWarning: Precision and F-score are ill-defined and being set to 0.0 in labels with no predicted samples. Use `zero_division` parameter to control this behavior.\n",
            "  _warn_prf(average, modifier, msg_start, len(result))\n"
          ],
          "name": "stderr"
        }
      ]
    },
    {
      "cell_type": "code",
      "metadata": {
        "id": "EHhUSOnIdlBW"
      },
      "source": [
        "from sklearn.preprocessing import StandardScaler\n",
        "scaler = StandardScaler()\n",
        "scaler.fit(X_train)\n",
        "\n",
        "X_train_scaled = scaler.transform(X_train)\n",
        "X_test_scaled = scaler.transform(X_test)"
      ],
      "execution_count": 56,
      "outputs": []
    },
    {
      "cell_type": "code",
      "metadata": {
        "colab": {
          "base_uri": "https://localhost:8080/",
          "height": 639
        },
        "id": "vhVJ35amds_3",
        "outputId": "f5d94336-eac4-44c4-d562-e04823abfbed"
      },
      "source": [
        "# KNN\n",
        "import matplotlib.pyplot as plt\n",
        "from sklearn.neighbors import KNeighborsClassifier\n",
        "classifier_knn = KNeighborsClassifier(n_neighbors=3)\n",
        "classifier_knn.fit(X_train, y_train)\n",
        "\n",
        "y_pred_knn = classifier_knn.predict(X_test)\n",
        "\n",
        "from sklearn.metrics import classification_report, confusion_matrix\n",
        "print(confusion_matrix(y_test, y_pred_knn))\n",
        "print(classification_report(y_test, y_pred_knn))\n",
        "\n",
        "error = []\n",
        "\n",
        "# Calculating error for K values between 1 and 40\n",
        "for i in range(1, 40):\n",
        "    knn = KNeighborsClassifier(n_neighbors=i)\n",
        "    knn.fit(X_train, y_train)\n",
        "    pred_i = knn.predict(X_test)\n",
        "    error.append(np.mean(pred_i != y_test))\n",
        "\n",
        "plt.figure(figsize=(12, 6))\n",
        "plt.plot(range(1, 40), error, color='red', linestyle='dashed', marker='o',\n",
        "         markerfacecolor='blue', markersize=10)\n",
        "plt.title('Error Rate K Value')\n",
        "plt.xlabel('K Value')\n",
        "plt.ylabel('Mean Error')"
      ],
      "execution_count": 68,
      "outputs": [
        {
          "output_type": "stream",
          "text": [
            "[[459  41   0]\n",
            " [129 365   6]\n",
            " [ 62  34 404]]\n",
            "              precision    recall  f1-score   support\n",
            "\n",
            "           1       0.71      0.92      0.80       500\n",
            "           2       0.83      0.73      0.78       500\n",
            "           3       0.99      0.81      0.89       500\n",
            "\n",
            "    accuracy                           0.82      1500\n",
            "   macro avg       0.84      0.82      0.82      1500\n",
            "weighted avg       0.84      0.82      0.82      1500\n",
            "\n"
          ],
          "name": "stdout"
        },
        {
          "output_type": "execute_result",
          "data": {
            "text/plain": [
              "Text(0, 0.5, 'Mean Error')"
            ]
          },
          "metadata": {
            "tags": []
          },
          "execution_count": 68
        },
        {
          "output_type": "display_data",
          "data": {
            "image/png": "[encoded data removed]",
            "text/plain": [
              "<Figure size 864x432 with 1 Axes>"
            ]
          },
          "metadata": {
            "tags": [],
            "needs_background": "light"
          }
        }
      ]
    },
    {
      "cell_type": "code",
      "metadata": {
        "colab": {
          "base_uri": "https://localhost:8080/"
        },
        "id": "TlIaGHvwd8fw",
        "outputId": "4a6fdaa8-9ba3-409a-dfe4-f9c6d65d7159"
      },
      "source": [
        "# One-Vs-Rest for Multi-Class Classification\n",
        "from sklearn.linear_model import LogisticRegression\n",
        "model_ovr1 = LogisticRegression(multi_class='ovr')\n",
        "model_ovr1.fit(X_train, y_train)\n",
        "\n",
        "ypred_ovr1 = model_ovr1.predict(X_test)\n",
        "\n",
        "from sklearn.metrics import classification_report, confusion_matrix\n",
        "print(confusion_matrix(y_test, ypred_ovr1))\n",
        "print(classification_report(y_test, ypred_ovr1))"
      ],
      "execution_count": 69,
      "outputs": [
        {
          "output_type": "stream",
          "text": [
            "[[340   0 160]\n",
            " [304  20 176]\n",
            " [  0  99 401]]\n",
            "              precision    recall  f1-score   support\n",
            "\n",
            "           1       0.53      0.68      0.59       500\n",
            "           2       0.17      0.04      0.06       500\n",
            "           3       0.54      0.80      0.65       500\n",
            "\n",
            "    accuracy                           0.51      1500\n",
            "   macro avg       0.41      0.51      0.44      1500\n",
            "weighted avg       0.41      0.51      0.44      1500\n",
            "\n"
          ],
          "name": "stdout"
        }
      ]
    },
    {
      "cell_type": "code",
      "metadata": {
        "colab": {
          "base_uri": "https://localhost:8080/"
        },
        "id": "YCpoa9IFeyyA",
        "outputId": "ae5c2150-5d91-4861-c53b-3093c84054be"
      },
      "source": [
        "# One-Vs-Rest for Multi-Class Classification\n",
        "from sklearn.linear_model import LogisticRegression\n",
        "from sklearn.multiclass import OneVsRestClassifier\n",
        "model_lr2 = LogisticRegression()\n",
        "model_ovr2 = OneVsRestClassifier(model_lr2)\n",
        "model_ovr2.fit(X_train, y_train)\n",
        "ypred_ovr2 = model_ovr2.predict(X_test)\n",
        "\n",
        "from sklearn.metrics import classification_report, confusion_matrix\n",
        "print(confusion_matrix(y_test, ypred_ovr2))\n",
        "print(classification_report(y_test, ypred_ovr2))"
      ],
      "execution_count": 71,
      "outputs": [
        {
          "output_type": "stream",
          "text": [
            "[[340   0 160]\n",
            " [304  20 176]\n",
            " [  0  99 401]]\n",
            "              precision    recall  f1-score   support\n",
            "\n",
            "           1       0.53      0.68      0.59       500\n",
            "           2       0.17      0.04      0.06       500\n",
            "           3       0.54      0.80      0.65       500\n",
            "\n",
            "    accuracy                           0.51      1500\n",
            "   macro avg       0.41      0.51      0.44      1500\n",
            "weighted avg       0.41      0.51      0.44      1500\n",
            "\n"
          ],
          "name": "stdout"
        }
      ]
    },
    {
      "cell_type": "code",
      "metadata": {
        "colab": {
          "base_uri": "https://localhost:8080/"
        },
        "id": "vMvpMy84fIs6",
        "outputId": "346f1fb4-6865-44dd-e503-cc1a6228c7cc"
      },
      "source": [
        "# One-Vs-One for Multi-Class Classification\n",
        "from sklearn.svm import SVC\n",
        "model_ovo1 = SVC(decision_function_shape='ovo')\n",
        "model_ovo1.fit(X_train, y_train)\n",
        "\n",
        "ypred_ovo1 = model_ovo1.predict(X_train)\n",
        "\n",
        "from sklearn.metrics import classification_report, confusion_matrix\n",
        "print(confusion_matrix(y_test, ypred_ovo1))\n",
        "print(classification_report(y_test, ypred_ovo1))"
      ],
      "execution_count": 72,
      "outputs": [
        {
          "output_type": "stream",
          "text": [
            "[[333 167   0]\n",
            " [  9 476  15]\n",
            " [  0 105 395]]\n",
            "              precision    recall  f1-score   support\n",
            "\n",
            "           1       0.97      0.67      0.79       500\n",
            "           2       0.64      0.95      0.76       500\n",
            "           3       0.96      0.79      0.87       500\n",
            "\n",
            "    accuracy                           0.80      1500\n",
            "   macro avg       0.86      0.80      0.81      1500\n",
            "weighted avg       0.86      0.80      0.81      1500\n",
            "\n"
          ],
          "name": "stdout"
        }
      ]
    },
    {
      "cell_type": "code",
      "metadata": {
        "colab": {
          "base_uri": "https://localhost:8080/"
        },
        "id": "YD7TYozUfh2n",
        "outputId": "f42363ae-4581-46b7-dd2f-92c0275bbc4f"
      },
      "source": [
        "# One-Vs-One for Multi-Class Classification\n",
        "from sklearn.svm import SVC\n",
        "from sklearn.multiclass import OneVsOneClassifier\n",
        "model_svm2 = SVC()\n",
        "model_ovo2 = OneVsOneClassifier(model_svm2)\n",
        "model_ovo2.fit(X_train, y_train)\n",
        "\n",
        "ypred_ovo2 = model_ovo2.predict(X_test)\n",
        "\n",
        "from sklearn.metrics import classification_report, confusion_matrix\n",
        "print(confusion_matrix(y_test, ypred_ovo2))\n",
        "print(classification_report(y_test, ypred_ovo2))"
      ],
      "execution_count": 74,
      "outputs": [
        {
          "output_type": "stream",
          "text": [
            "[[338 162   0]\n",
            " [ 12 483   5]\n",
            " [  0  97 403]]\n",
            "              precision    recall  f1-score   support\n",
            "\n",
            "           1       0.97      0.68      0.80       500\n",
            "           2       0.65      0.97      0.78       500\n",
            "           3       0.99      0.81      0.89       500\n",
            "\n",
            "    accuracy                           0.82      1500\n",
            "   macro avg       0.87      0.82      0.82      1500\n",
            "weighted avg       0.87      0.82      0.82      1500\n",
            "\n"
          ],
          "name": "stdout"
        }
      ]
    },
    {
      "cell_type": "code",
      "metadata": {
        "id": "BjRRaVxXgKNI"
      },
      "source": [
        "import seaborn as sns"
      ],
      "execution_count": 75,
      "outputs": []
    },
    {
      "cell_type": "code",
      "metadata": {
        "colab": {
          "base_uri": "https://localhost:8080/",
          "height": 298
        },
        "id": "cTTkaLdSf200",
        "outputId": "37c46dc0-1b2d-4460-fc2c-721ab41e128a"
      },
      "source": [
        "# Feature selection with correlation and random forest classification\n",
        "from sklearn.ensemble import RandomForestClassifier\n",
        "from sklearn.metrics import f1_score,confusion_matrix\n",
        "from sklearn.metrics import accuracy_score\n",
        "\n",
        "#random forest classifier with n_estimators=10 (default)\n",
        "clf_rf = RandomForestClassifier(random_state=43)      \n",
        "clr_rf = clf_rf.fit(X_train,y_train)\n",
        "\n",
        "ac = accuracy_score(y_test,clf_rf.predict(X_test))\n",
        "print('Accuracy is: ',ac)\n",
        "cm = confusion_matrix(y_test,clf_rf.predict(X_test))\n",
        "sns.heatmap(cm,annot=True,fmt=\"d\")"
      ],
      "execution_count": 76,
      "outputs": [
        {
          "output_type": "stream",
          "text": [
            "Accuracy is:  0.806\n"
          ],
          "name": "stdout"
        },
        {
          "output_type": "execute_result",
          "data": {
            "text/plain": [
              "<matplotlib.axes._subplots.AxesSubplot at 0x7f475e890210>"
            ]
          },
          "metadata": {
            "tags": []
          },
          "execution_count": 76
        },
        {
          "output_type": "display_data",
          "data": {
            "image/png": "[encoded data removed]",
            "text/plain": [
              "<Figure size 432x288 with 2 Axes>"
            ]
          },
          "metadata": {
            "tags": [],
            "needs_background": "light"
          }
        }
      ]
    },
    {
      "cell_type": "code",
      "metadata": {
        "colab": {
          "base_uri": "https://localhost:8080/",
          "height": 298
        },
        "id": "BCACR9kRg6Wz",
        "outputId": "117e4c84-24db-4742-eeb2-ae4c943964f4"
      },
      "source": [
        "# Univariate feature selection and random forest classification\n",
        "from sklearn.feature_selection import SelectKBest\n",
        "from sklearn.feature_selection import chi2\n",
        "# find best scored 5 features\n",
        "select_feature = SelectKBest(chi2, k=3).fit(X_train, y_train)\n",
        "\n",
        "X_train_2 = select_feature.transform(X_train)\n",
        "X_test_2 = select_feature.transform(X_test)\n",
        "#random forest classifier with n_estimators=10 (default)\n",
        "clf_rf_2 = RandomForestClassifier()      \n",
        "clr_rf_2 = clf_rf_2.fit(X_train_2,y_train)\n",
        "ac_2 = accuracy_score(y_test,clf_rf_2.predict(X_test_2))\n",
        "print('Accuracy is: ',ac_2)\n",
        "cm_2 = confusion_matrix(y_test,clf_rf_2.predict(X_test_2))\n",
        "sns.heatmap(cm_2,annot=True,fmt=\"d\")"
      ],
      "execution_count": 82,
      "outputs": [
        {
          "output_type": "stream",
          "text": [
            "Accuracy is:  0.804\n"
          ],
          "name": "stdout"
        },
        {
          "output_type": "execute_result",
          "data": {
            "text/plain": [
              "<matplotlib.axes._subplots.AxesSubplot at 0x7f475e4661d0>"
            ]
          },
          "metadata": {
            "tags": []
          },
          "execution_count": 82
        },
        {
          "output_type": "display_data",
          "data": {
            "image/png": "[encoded data removed]",
            "text/plain": [
              "<Figure size 432x288 with 2 Axes>"
            ]
          },
          "metadata": {
            "tags": [],
            "needs_background": "light"
          }
        }
      ]
    },
    {
      "cell_type": "code",
      "metadata": {
        "colab": {
          "base_uri": "https://localhost:8080/",
          "height": 298
        },
        "id": "oWS9yf7uhaxx",
        "outputId": "cd743852-c1bd-495c-ca0e-b946165c26c7"
      },
      "source": [
        "# Recursive feature elimination (RFE) with random forest\n",
        "from sklearn.feature_selection import RFE\n",
        "# Create the RFE object and rank each pixel\n",
        "clf_rf_3 = RandomForestClassifier()      \n",
        "rfe = RFE(estimator=clf_rf_3, n_features_to_select=5, step=1)\n",
        "rfe = rfe.fit(X_train, y_train)\n",
        "ac_3 = accuracy_score(y_test,rfe.predict(X_test_2))\n",
        "print('Accuracy is: ',ac_3)\n",
        "cm_3 = confusion_matrix(y_test,rfe.predict(X_test_2))\n",
        "sns.heatmap(cm_3,annot=True,fmt=\"d\")"
      ],
      "execution_count": 83,
      "outputs": [
        {
          "output_type": "stream",
          "text": [
            "Accuracy is:  0.8033333333333333\n"
          ],
          "name": "stdout"
        },
        {
          "output_type": "execute_result",
          "data": {
            "text/plain": [
              "<matplotlib.axes._subplots.AxesSubplot at 0x7f475e815c10>"
            ]
          },
          "metadata": {
            "tags": []
          },
          "execution_count": 83
        },
        {
          "output_type": "display_data",
          "data": {
            "image/png": "[encoded data removed]",
            "text/plain": [
              "<Figure size 432x288 with 2 Axes>"
            ]
          },
          "metadata": {
            "tags": [],
            "needs_background": "light"
          }
        }
      ]
    },
    {
      "cell_type": "code",
      "metadata": {
        "colab": {
          "base_uri": "https://localhost:8080/",
          "height": 298
        },
        "id": "5nr82ASphqzh",
        "outputId": "aa44cb6d-0029-4a02-f0e8-472ef5b22e4f"
      },
      "source": [
        "# Recursive feature elimination with cross validation and random forest classification\n",
        "from sklearn.feature_selection import RFECV\n",
        "\n",
        "# The \"accuracy\" scoring is proportional to the number of correct classifications\n",
        "clf_rf_4 = RandomForestClassifier() \n",
        "rfecv = RFECV(estimator=clf_rf_4, step=1, cv=5,scoring='accuracy')   #5-fold cross-validation\n",
        "rfecv = rfecv.fit(X_train, y_train)\n",
        "\n",
        "ac_4 = accuracy_score(y_test,rfe.predict(X_test))\n",
        "print('Accuracy is: ',ac_4)\n",
        "cm_4 = confusion_matrix(y_test,rfe.predict(X_test))\n",
        "sns.heatmap(cm_4,annot=True,fmt=\"d\")"
      ],
      "execution_count": 84,
      "outputs": [
        {
          "output_type": "stream",
          "text": [
            "Accuracy is:  0.8033333333333333\n"
          ],
          "name": "stdout"
        },
        {
          "output_type": "execute_result",
          "data": {
            "text/plain": [
              "<matplotlib.axes._subplots.AxesSubplot at 0x7f475e5bb390>"
            ]
          },
          "metadata": {
            "tags": []
          },
          "execution_count": 84
        },
        {
          "output_type": "display_data",
          "data": {
            "image/png": "[encoded data removed]",
            "text/plain": [
              "<Figure size 432x288 with 2 Axes>"
            ]
          },
          "metadata": {
            "tags": [],
            "needs_background": "light"
          }
        }
      ]
    },
    {
      "cell_type": "code",
      "metadata": {
        "colab": {
          "base_uri": "https://localhost:8080/",
          "height": 386
        },
        "id": "Reuy3QNzh36G",
        "outputId": "6200ac42-2bed-4e33-9d51-bb93f2b18279"
      },
      "source": [
        "# Tree based feature selection and random forest classification\n",
        "clf_rf_5 = RandomForestClassifier()      \n",
        "clr_rf_5 = clf_rf_5.fit(X_train,y_train)\n",
        "\n",
        "ac_5 = accuracy_score(y_test,rfe.predict(X_test))\n",
        "print('Accuracy is: ',ac_5)\n",
        "cm_5 = confusion_matrix(y_test,rfe.predict(X_test))\n",
        "sns.heatmap(cm_5,annot=True,fmt=\"d\")\n",
        "\n",
        "importances = clr_rf_5.feature_importances_\n",
        "std = np.std([tree.feature_importances_ for tree in clf_rf.estimators_],\n",
        "             axis=0)\n",
        "indices = np.argsort(importances)[::-1]\n",
        "\n",
        "# Print the feature ranking\n",
        "print(\"Feature ranking:\")\n",
        "\n",
        "for f in range(X_train.shape[1]):\n",
        "    print(\"%d. feature %d (%f)\" % (f + 1, indices[f], importances[indices[f]]))\n",
        "\n",
        "# Plot the feature importances of the forest\n",
        "\n",
        "plt.figure(1, figsize=(14, 13))\n",
        "plt.title(\"Feature importances\")\n",
        "plt.bar(range(X_train.shape[1]), importances[indices],\n",
        "       color=\"g\", yerr=std[indices], align=\"center\")\n",
        "plt.xticks(range(X_train.shape[1]), X_train.columns[indices],rotation=90)\n",
        "plt.xlim([-1, X_train.shape[1]])\n",
        "plt.show()"
      ],
      "execution_count": 87,
      "outputs": [
        {
          "output_type": "stream",
          "text": [
            "Accuracy is:  0.8033333333333333\n",
            "Feature ranking:\n",
            "1. feature 2 (0.539987)\n",
            "2. feature 1 (0.238928)\n",
            "3. feature 0 (0.221085)\n"
          ],
          "name": "stdout"
        },
        {
          "output_type": "display_data",
          "data": {
            "image/png": "[encoded data removed]",
            "text/plain": [
              "<Figure size 432x288 with 2 Axes>"
            ]
          },
          "metadata": {
            "tags": [],
            "needs_background": "light"
          }
        }
      ]
    },
    {
      "cell_type": "code",
      "metadata": {
        "id": "1q01AuJYiC9m"
      },
      "source": [
        ""
      ],
      "execution_count": null,
      "outputs": []
    }
  ]
}